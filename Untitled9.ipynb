{
 "cells": [
  {
   "cell_type": "code",
   "execution_count": 1,
   "metadata": {},
   "outputs": [
    {
     "name": "stdout",
     "output_type": "stream",
     "text": [
      "Q 1 ) ENTER COLOR:\n",
      "A)RED\n",
      "B)ORANGE\n",
      "C)YELLOW\n",
      "D)PINK\n",
      "Enter Option :a\n",
      "YOUR ANSWER IS CORRECT\n",
      "Q 2 ) The Second largest city of Pakistan is? \n",
      "A)Rawalpindi\n",
      "B) Lahore\n",
      "C) Multan\n",
      "D) Quetta\n",
      "Enter Option :b\n",
      "YOUR ANSWER IS CORRECT\n",
      "Q 3 ) Upto now how many Muslims went to Space? \n",
      "A)11\n",
      "B)12\n",
      "C)13\n",
      "D)14\n",
      "Enter Option :a\n",
      "YOUR ANSWER IS CORRECT\n",
      "YOU TOTAL QUIZ SCORE : 3\n"
     ]
    }
   ],
   "source": [
    "quiz=[\n",
    "    {\n",
    "        \"Q )\" : \"ENTER COLOR:\",\n",
    "        \"OP \" : [\"A)RED\",\"B)ORANGE\",\"C)YELLOW\",\"D)PINK\"],\n",
    "        \"ANS\" : \"a\"},\n",
    "     {\n",
    "        \"Q )\": \"The Second largest city of Pakistan is? \", \n",
    "       \"OP \" : [\"A)Rawalpindi\",\"B) Lahore\",\"C) Multan\", \"D) Quetta\"],\n",
    "      \"ANS\"  : \"b\"\n",
    "\n",
    "    },\n",
    "    {\n",
    "        \"Q )\" : \"Upto now how many Muslims went to Space? \",\n",
    "        \"OP \":[ \"A)11\", \"B)12\",  \"C)13\" , \"D)14\"],\n",
    "        \"ANS\": \"a\"         \n",
    "\n",
    "    },\n",
    "\n",
    "    \n",
    "    \n",
    "]\n",
    "mark=0\n",
    "i=0\n",
    "for question in quiz:\n",
    "    print(\"Q\",i+1,\")\",question[\"Q )\"])\n",
    "    print(question[\"OP \"][0])\n",
    "    print(question[\"OP \"][1])\n",
    "    print(question[\"OP \"][2])\n",
    "    print(question[\"OP \"][3])\n",
    "    ans=input(\"Enter Option :\")\n",
    "    i=i+1\n",
    "    \n",
    "    if (ans.lower()==question[\"ANS\"]):\n",
    "        print(\"YOUR ANSWER IS CORRECT\")\n",
    "        mark=mark+1\n",
    "    else:\n",
    "        print(\"YOUR ANSWER IS INCORRECT\")\n",
    "print(\"YOU TOTAL QUIZ SCORE :\",mark)"
   ]
  }
 ],
 "metadata": {
  "kernelspec": {
   "display_name": "Python 3",
   "language": "python",
   "name": "python3"
  },
  "language_info": {
   "codemirror_mode": {
    "name": "ipython",
    "version": 3
   },
   "file_extension": ".py",
   "mimetype": "text/x-python",
   "name": "python",
   "nbconvert_exporter": "python",
   "pygments_lexer": "ipython3",
   "version": "3.7.6"
  }
 },
 "nbformat": 4,
 "nbformat_minor": 4
}
